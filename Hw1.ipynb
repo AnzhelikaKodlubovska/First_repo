{
  "nbformat": 4,
  "nbformat_minor": 0,
  "metadata": {
    "colab": {
      "provenance": [],
      "authorship_tag": "ABX9TyN/uKHbooIGah2LVFikOAvU",
      "include_colab_link": true
    },
    "kernelspec": {
      "name": "python3",
      "display_name": "Python 3"
    },
    "language_info": {
      "name": "python"
    }
  },
  "cells": [
    {
      "cell_type": "markdown",
      "metadata": {
        "id": "view-in-github",
        "colab_type": "text"
      },
      "source": [
        "<a href=\"https://colab.research.google.com/github/AnzhelikaKodlubovska/First_repo/blob/main/Hw1.ipynb\" target=\"_parent\"><img src=\"https://colab.research.google.com/assets/colab-badge.svg\" alt=\"Open In Colab\"/></a>"
      ]
    },
    {
      "cell_type": "code",
      "execution_count": 1,
      "metadata": {
        "id": "HiCQYGUFa5UE"
      },
      "outputs": [],
      "source": [
        "import numpy as np"
      ]
    },
    {
      "cell_type": "code",
      "source": [
        "# 1\n",
        "a = np.array([1, 2, 3, 4, 5, 6, 7, 8, 9, 10])\n",
        "print(a)"
      ],
      "metadata": {
        "colab": {
          "base_uri": "https://localhost:8080/"
        },
        "id": "q9vkNT-1cwD2",
        "outputId": "0e7cb201-8ac1-4e66-d633-191ac84b3c3b"
      },
      "execution_count": 2,
      "outputs": [
        {
          "output_type": "stream",
          "name": "stdout",
          "text": [
            "[ 1  2  3  4  5  6  7  8  9 10]\n"
          ]
        }
      ]
    },
    {
      "cell_type": "code",
      "source": [
        "# 2\n",
        "matrix_1 = np.zeros((3, 3), dtype=\"u4\")\n",
        "print(matrix_1)"
      ],
      "metadata": {
        "colab": {
          "base_uri": "https://localhost:8080/"
        },
        "id": "qJwumzk7dWcN",
        "outputId": "7a30300c-6182-4681-9787-a19d0d44299a"
      },
      "execution_count": 3,
      "outputs": [
        {
          "output_type": "stream",
          "name": "stdout",
          "text": [
            "[[0. 0. 0.]\n",
            " [0. 0. 0.]\n",
            " [0. 0. 0.]]\n"
          ]
        }
      ]
    },
    {
      "cell_type": "code",
      "source": [
        "# 3\n",
        "matrix_2 = np.random.randint(1, 11, size=(5, 5))\n",
        "print(matrix_2)"
      ],
      "metadata": {
        "colab": {
          "base_uri": "https://localhost:8080/"
        },
        "id": "eA1XQbvdeIYj",
        "outputId": "332f8539-5ef4-4502-b589-1da13860163d"
      },
      "execution_count": 13,
      "outputs": [
        {
          "output_type": "stream",
          "name": "stdout",
          "text": [
            "[[10  2  2  9  8]\n",
            " [10  3  6  4 10]\n",
            " [ 2  7  6  1  8]\n",
            " [ 1  4  9  1  8]\n",
            " [ 9  3  8  9  8]]\n"
          ]
        }
      ]
    },
    {
      "cell_type": "code",
      "source": [
        "# 4\n",
        "matrix_3 = np.random.randint(0, 2, size=(4, 4))\n",
        "print(matrix_3)"
      ],
      "metadata": {
        "colab": {
          "base_uri": "https://localhost:8080/"
        },
        "id": "9Od40lt0jpB6",
        "outputId": "80e21413-efba-400e-8a30-915722f43dbe"
      },
      "execution_count": 14,
      "outputs": [
        {
          "output_type": "stream",
          "name": "stdout",
          "text": [
            "[[0 0 0 0]\n",
            " [0 0 1 0]\n",
            " [1 1 0 0]\n",
            " [0 1 0 1]]\n"
          ]
        }
      ]
    },
    {
      "cell_type": "code",
      "source": [
        "# 5\n",
        "a = np.random.randint(1, 11, size=(5))\n",
        "b = np.random.randint(1, 11, size=(5))\n",
        "\n",
        "print(a)\n",
        "print(b)\n",
        "print(f'Додавання: {a + b}')\n",
        "print(f'Віднімання: {a - b}')\n",
        "print(f'Множення: {a * b}')\n"
      ],
      "metadata": {
        "colab": {
          "base_uri": "https://localhost:8080/"
        },
        "id": "RX3iT2Auj_BN",
        "outputId": "1aab0c25-7042-471d-e901-2affa51ed052"
      },
      "execution_count": 19,
      "outputs": [
        {
          "output_type": "stream",
          "name": "stdout",
          "text": [
            "[5 8 2 1 2]\n",
            "[8 2 2 3 2]\n",
            "Додавання: [13 10  4  4  4]\n",
            "Віднімання: [-3  6  0 -2  0]\n",
            "Множення: [40 16  4  3  4]\n"
          ]
        }
      ]
    },
    {
      "cell_type": "code",
      "source": [
        "# 6\n",
        "a = np.random.random(7)\n",
        "b = np.random.random(7)\n",
        "\n",
        "print(a)\n",
        "print(b)\n",
        "print(np.dot(a, b))"
      ],
      "metadata": {
        "colab": {
          "base_uri": "https://localhost:8080/"
        },
        "id": "elmq6-cTlvNW",
        "outputId": "4a3341b1-0e91-41e1-83f8-38c9fe2bfda5"
      },
      "execution_count": 22,
      "outputs": [
        {
          "output_type": "stream",
          "name": "stdout",
          "text": [
            "[0.55864865 0.57275209 0.55460033 0.83243175 0.21980494 0.07115056\n",
            " 0.60895963]\n",
            "[0.64199776 0.10887194 0.97757926 0.13798545 0.44823983 0.89621772\n",
            " 0.10597121]\n",
            "1.3048609806354585\n"
          ]
        }
      ]
    },
    {
      "cell_type": "code",
      "source": [
        "# 7\n",
        "matrix_a = np.random.randint(1, 11, size=(2, 2))\n",
        "matrix_b = np.random.randint(1, 11, size=(2, 3))\n",
        "\n",
        "print(np.dot(matrix_a, matrix_b))"
      ],
      "metadata": {
        "colab": {
          "base_uri": "https://localhost:8080/"
        },
        "id": "V3EckbWwnqxD",
        "outputId": "7037a240-e09f-4a4f-8745-216ffb777369"
      },
      "execution_count": 26,
      "outputs": [
        {
          "output_type": "stream",
          "name": "stdout",
          "text": [
            "[[21 19 22]\n",
            " [48 47 50]]\n"
          ]
        }
      ]
    },
    {
      "cell_type": "code",
      "source": [
        "# 8\n",
        "matrix_4 = np.random.randint(1, 11, size=(3, 3))\n",
        "\n",
        "print(matrix_4)\n",
        "print(np.linalg.inv(matrix_4))"
      ],
      "metadata": {
        "colab": {
          "base_uri": "https://localhost:8080/"
        },
        "id": "wfi_TZfwpno7",
        "outputId": "d3b7288a-be43-4650-a871-478b2b63ed6e"
      },
      "execution_count": 32,
      "outputs": [
        {
          "output_type": "stream",
          "name": "stdout",
          "text": [
            "[[2 1 2]\n",
            " [8 9 3]\n",
            " [7 6 9]]\n",
            "[[ 1.4         0.06666667 -0.33333333]\n",
            " [-1.13333333  0.08888889  0.22222222]\n",
            " [-0.33333333 -0.11111111  0.22222222]]\n"
          ]
        }
      ]
    },
    {
      "cell_type": "code",
      "source": [
        "# 9\n",
        "matrix_5 = np.random.randint(0, 2, size=(4, 4))\n",
        "\n",
        "print(matrix_5)\n",
        "print(' ')\n",
        "print(matrix_5.T)"
      ],
      "metadata": {
        "colab": {
          "base_uri": "https://localhost:8080/"
        },
        "id": "k3bjoyJPqw0F",
        "outputId": "c8a953ca-8133-4ed7-f1bb-4376df413267"
      },
      "execution_count": 35,
      "outputs": [
        {
          "output_type": "stream",
          "name": "stdout",
          "text": [
            "[[1 0 0 0]\n",
            " [0 1 1 0]\n",
            " [1 1 0 1]\n",
            " [0 0 1 0]]\n",
            " \n",
            "[[1 0 1 0]\n",
            " [0 1 1 0]\n",
            " [0 1 0 1]\n",
            " [0 0 1 0]]\n"
          ]
        }
      ]
    },
    {
      "cell_type": "code",
      "source": [
        "# 10\n",
        "matrix_c = np.random.randint(1, 11, size=(3, 4))\n",
        "c = np.random.randint(1, 11, size=(4))\n",
        "\n",
        "print(matrix_c)\n",
        "print(' ')\n",
        "print(c)\n",
        "print(' ')\n",
        "print(np.dot(matrix_c, c))"
      ],
      "metadata": {
        "colab": {
          "base_uri": "https://localhost:8080/"
        },
        "id": "mm_yptXtrd6T",
        "outputId": "be97f084-8e19-41ac-da98-b2f5b04df6df"
      },
      "execution_count": 37,
      "outputs": [
        {
          "output_type": "stream",
          "name": "stdout",
          "text": [
            "[[2 7 8 2]\n",
            " [2 3 3 2]\n",
            " [6 2 1 4]]\n",
            " \n",
            "[7 6 2 5]\n",
            " \n",
            "[82 48 76]\n"
          ]
        }
      ]
    },
    {
      "cell_type": "code",
      "source": [
        "# 11\n",
        "matrix_d = np.random.randint(0, 2, size=(2, 3))\n",
        "d = np.random.randint(0, 2, size=(3))\n",
        "\n",
        "print(matrix_d)\n",
        "print(' ')\n",
        "print(d)\n",
        "print(' ')\n",
        "print(np.dot(matrix_d, d))"
      ],
      "metadata": {
        "colab": {
          "base_uri": "https://localhost:8080/"
        },
        "id": "DKQf6WufsanT",
        "outputId": "82a59980-b8f8-43a4-f7e8-41b21fe29372"
      },
      "execution_count": 38,
      "outputs": [
        {
          "output_type": "stream",
          "name": "stdout",
          "text": [
            "[[1 0 0]\n",
            " [1 1 1]]\n",
            " \n",
            "[0 0 0]\n",
            " \n",
            "[0 0]\n"
          ]
        }
      ]
    },
    {
      "cell_type": "code",
      "source": [
        "# 12\n",
        "matrix_f = np.random.randint(1, 11, size=(2, 2))\n",
        "matrix_j = np.random.randint(1, 11, size=(2, 2))\n",
        "\n",
        "print(matrix_f)\n",
        "print(' ')\n",
        "print(matrix_j)\n",
        "print(' ')\n",
        "print(matrix_f * matrix_j)"
      ],
      "metadata": {
        "colab": {
          "base_uri": "https://localhost:8080/"
        },
        "id": "5_VxzIqDs6Oy",
        "outputId": "ef344c6c-4a83-4273-d5c2-178c4e0f546e"
      },
      "execution_count": 41,
      "outputs": [
        {
          "output_type": "stream",
          "name": "stdout",
          "text": [
            "[[6 7]\n",
            " [2 2]]\n",
            " \n",
            "[[2 2]\n",
            " [3 2]]\n",
            " \n",
            "[[12 14]\n",
            " [ 6  4]]\n"
          ]
        }
      ]
    },
    {
      "cell_type": "code",
      "source": [
        "# 13\n",
        "matrix_s = np.random.randint(1, 11, size=(2, 2))\n",
        "matrix_z = np.random.randint(1, 11, size=(2, 2))\n",
        "\n",
        "print(matrix_s)\n",
        "print(' ')\n",
        "print(matrix_z)\n",
        "print(' ')\n",
        "print(np.matmul(matrix_f,matrix_j))"
      ],
      "metadata": {
        "colab": {
          "base_uri": "https://localhost:8080/"
        },
        "id": "FmDr8LszukF-",
        "outputId": "c6e37aab-4388-4c45-c5f1-e139c65973a5"
      },
      "execution_count": 42,
      "outputs": [
        {
          "output_type": "stream",
          "name": "stdout",
          "text": [
            "[[ 1 10]\n",
            " [ 8  1]]\n",
            " \n",
            "[[2 5]\n",
            " [1 6]]\n",
            " \n",
            "[[33 26]\n",
            " [10  8]]\n"
          ]
        }
      ]
    },
    {
      "cell_type": "code",
      "source": [
        "# 14\n",
        "matrix_6 = np.random.randint(1, 101, size=(5, 5))\n",
        "\n",
        "print(matrix_6)\n",
        "print(' ')\n",
        "print(sum(matrix_z))"
      ],
      "metadata": {
        "colab": {
          "base_uri": "https://localhost:8080/"
        },
        "id": "Qsp2T-Qnv6U3",
        "outputId": "59b2aab3-1832-4a25-dd51-c8e5efbba003"
      },
      "execution_count": 44,
      "outputs": [
        {
          "output_type": "stream",
          "name": "stdout",
          "text": [
            "[[18 60 55 81  4]\n",
            " [41 96  3 43 47]\n",
            " [95 77 99 40 15]\n",
            " [54 52 85 27 72]\n",
            " [72 92 69 86 32]]\n",
            " \n",
            "[ 3 11]\n"
          ]
        }
      ]
    },
    {
      "cell_type": "code",
      "source": [
        "# 15\n",
        "matrix_7 = np.random.randint(1, 11, size=(4, 4))\n",
        "matrix_8 = np.random.randint(1, 11, size=(4, 4))\n",
        "\n",
        "print(matrix_7)\n",
        "print(' ')\n",
        "print(matrix_8)\n",
        "print(' ')\n",
        "print(matrix_7 - matrix_8)"
      ],
      "metadata": {
        "colab": {
          "base_uri": "https://localhost:8080/"
        },
        "id": "NKIAxDJLxGsb",
        "outputId": "9c308c47-c9e1-4e5b-cb3b-de1e806ff9c5"
      },
      "execution_count": 45,
      "outputs": [
        {
          "output_type": "stream",
          "name": "stdout",
          "text": [
            "[[ 2  9  1 10]\n",
            " [ 7  6  5  9]\n",
            " [ 1  3  8  7]\n",
            " [ 8 10  2  3]]\n",
            " \n",
            "[[7 9 3 9]\n",
            " [3 8 3 9]\n",
            " [5 3 3 5]\n",
            " [7 4 1 2]]\n",
            " \n",
            "[[-5  0 -2  1]\n",
            " [ 4 -2  2  0]\n",
            " [-4  0  5  2]\n",
            " [ 1  6  1  1]]\n"
          ]
        }
      ]
    },
    {
      "cell_type": "code",
      "source": [
        "# 16\n",
        "matrix_9 = np.random.randint(0, 2, size=(3, 3))\n",
        "\n",
        "print(matrix_9)\n",
        "print(' ')\n",
        "print(np.sum(matrix_9, axis=1))\n"
      ],
      "metadata": {
        "colab": {
          "base_uri": "https://localhost:8080/"
        },
        "id": "LnToz3_-xvI6",
        "outputId": "4054cf09-e2bd-4b65-b528-dafc1ab9e241"
      },
      "execution_count": 61,
      "outputs": [
        {
          "output_type": "stream",
          "name": "stdout",
          "text": [
            "[[1 0 1]\n",
            " [0 1 1]\n",
            " [1 1 1]]\n",
            " \n",
            "[2 2 3]\n"
          ]
        }
      ]
    },
    {
      "cell_type": "code",
      "source": [
        "# 17\n",
        "matrix_o = np.random.random(size=(3, 4))\n",
        "\n",
        "print(matrix_o)\n",
        "print(' ')\n",
        "print(matrix_o**2)"
      ],
      "metadata": {
        "colab": {
          "base_uri": "https://localhost:8080/"
        },
        "id": "7G8q_zvm2srO",
        "outputId": "2e597eef-e6fe-4934-f0d3-d8c72a22a89a"
      },
      "execution_count": 69,
      "outputs": [
        {
          "output_type": "stream",
          "name": "stdout",
          "text": [
            "[[0.55867618 0.46097084 0.63028867 0.76680131]\n",
            " [0.74866883 0.09143766 0.99871307 0.92068059]\n",
            " [0.68325759 0.25091607 0.67499495 0.8270165 ]]\n",
            " \n",
            "[[0.31211908 0.21249411 0.39726381 0.58798425]\n",
            " [0.56050501 0.00836085 0.99742779 0.84765275]\n",
            " [0.46684093 0.06295887 0.45561819 0.6839563 ]]\n"
          ]
        }
      ]
    },
    {
      "cell_type": "code",
      "source": [
        "# 18\n",
        "f = np.random.randint(1, 51, size=(4))\n",
        "\n",
        "print(f)\n",
        "print(' ')\n",
        "print(np.sqrt(f))\n"
      ],
      "metadata": {
        "colab": {
          "base_uri": "https://localhost:8080/"
        },
        "id": "PZgnV6Gc6xjW",
        "outputId": "a1c26517-e0b9-4c25-c3eb-186f4482aa06"
      },
      "execution_count": 72,
      "outputs": [
        {
          "output_type": "stream",
          "name": "stdout",
          "text": [
            "[42  4 26 38]\n",
            " \n",
            "[6.4807407  2.         5.09901951 6.164414  ]\n"
          ]
        }
      ]
    }
  ]
}