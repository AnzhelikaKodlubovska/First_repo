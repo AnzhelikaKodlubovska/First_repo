{
  "nbformat": 4,
  "nbformat_minor": 0,
  "metadata": {
    "colab": {
      "provenance": [],
      "authorship_tag": "ABX9TyNRPXDEqUJIBN0o3ZJgieyo",
      "include_colab_link": true
    },
    "kernelspec": {
      "name": "python3",
      "display_name": "Python 3"
    },
    "language_info": {
      "name": "python"
    }
  },
  "cells": [
    {
      "cell_type": "markdown",
      "metadata": {
        "id": "view-in-github",
        "colab_type": "text"
      },
      "source": [
        "<a href=\"https://colab.research.google.com/github/AnzhelikaKodlubovska/First_repo/blob/main/Test.ipynb\" target=\"_parent\"><img src=\"https://colab.research.google.com/assets/colab-badge.svg\" alt=\"Open In Colab\"/></a>"
      ]
    },
    {
      "cell_type": "code",
      "execution_count": 16,
      "metadata": {
        "colab": {
          "base_uri": "https://localhost:8080/"
        },
        "id": "-iL8chQN3rtm",
        "outputId": "1d9e3e52-a9f3-4106-9061-950006bead01"
      },
      "outputs": [
        {
          "output_type": "stream",
          "name": "stdout",
          "text": [
            "[[1. 0. 0. 0.]\n",
            " [0. 1. 0. 0.]\n",
            " [0. 0. 1. 0.]\n",
            " [0. 0. 0. 1.]]\n"
          ]
        }
      ],
      "source": [
        "import numpy as np\n",
        "\n",
        "# a = np.array([1, 2, 3, 4, 5], dtype=float)\n",
        "# b = 5*a\n",
        "\n",
        "# a = np.array([1, 2, 3])\n",
        "# b = np.array([1, 2, 3])\n",
        "\n",
        "# print(a + b)\n",
        "# print(a - b)\n",
        "# print(np.dot(a, b))\n",
        "# print(f'{b}, size a: {a.size}')\n",
        "\n",
        "# matrix_1 = np.array([[1, 2, 3], [2, 4, 6]], dtype = int)\n",
        "# print(matrix_1.shape)\n",
        "\n",
        "\n",
        "# a = np.array([[1, 2, 3],\n",
        "#               [0, 1, 2]])\n",
        "\n",
        "# b = np.array([[ 1, 2],\n",
        "#               [ 0, 4],\n",
        "#               [-1, 0]])\n",
        "\n",
        "# c = np.dot(a, b)\n",
        "# print(c)\n",
        "\n",
        "import numpy as np\n",
        "\n",
        "a = np.eye(4, k=0, dtype=float)\n",
        "print(a)\n"
      ]
    },
    {
      "cell_type": "code",
      "source": [],
      "metadata": {
        "id": "iAd5-pA6aNj7"
      },
      "execution_count": null,
      "outputs": []
    }
  ]
}